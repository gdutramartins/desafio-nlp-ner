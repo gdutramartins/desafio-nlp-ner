{
 "cells": [
  {
   "cell_type": "markdown",
   "metadata": {},
   "source": [
    "## Gerador de Word Embedding (Gensim) utilizando os datasets disponibilizados"
   ]
  },
  {
   "cell_type": "code",
   "execution_count": 1,
   "metadata": {},
   "outputs": [
    {
     "name": "stderr",
     "output_type": "stream",
     "text": [
      "[nltk_data] Downloading package stopwords to\n",
      "[nltk_data]     C:\\Users\\gdutr\\AppData\\Roaming\\nltk_data...\n",
      "[nltk_data]   Package stopwords is already up-to-date!\n"
     ]
    },
    {
     "data": {
      "text/plain": [
       "True"
      ]
     },
     "execution_count": 1,
     "metadata": {},
     "output_type": "execute_result"
    }
   ],
   "source": [
    "import json\n",
    "import os\n",
    "import string\n",
    "import re\n",
    "\n",
    "from gensim.models.word2vec import Word2Vec\n",
    "from gensim.models.keyedvectors import KeyedVectors\n",
    "import multiprocessing\n",
    "\n",
    "import nltk\n",
    "from nltk.corpus import stopwords\n",
    "nltk.download('stopwords')"
   ]
  },
  {
   "cell_type": "code",
   "execution_count": 2,
   "metadata": {},
   "outputs": [],
   "source": [
    "LABEL_DRUG_PROTEIN = 'DRUG-PROTEIN'\n",
    "LABEL_CHEMICAL = 'CHEMICAL'\n",
    "LABEL_DISEASE = 'DISEASE'\n",
    "LABEL_SPECIES = 'SPECIES'\n",
    "\n",
    "LABEL_LIST = [LABEL_DRUG_PROTEIN,\n",
    "              LABEL_CHEMICAL,\n",
    "              LABEL_DISEASE,    \n",
    "              LABEL_SPECIES]\n",
    "\n",
    "LABEL_TO_DIR = {\n",
    "    LABEL_DRUG_PROTEIN: ['BC2GM', 'JNLPBA'],\n",
    "    LABEL_CHEMICAL: ['BC4CHEMD','BC5CDR-chem'],\n",
    "    LABEL_DISEASE: ['BC5CDR-disease', 'NCBI-disease'],    \n",
    "    LABEL_SPECIES: ['linnaeus', 's800']\n",
    "}\n",
    "\n",
    "DATA_ORIGIN_PATH = os.path.join(\"data\",\"origin\")\n",
    "DATA_PREPARED_PATH = os.path.join(\"data\", \"prepared\")\n",
    "DATA_AGGREGATE_PATH = os.path.join(DATA_PREPARED_PATH, \"aggregate\")\n",
    "\n",
    "WORD_VECTOR_PATH = \"word_vec\"\n",
    "WORD_VECTOR_MODEL_NAME = os.path.join(WORD_VECTOR_PATH,\"biomed.model\")\n",
    "WORD_VECTOR_FILE_NAME = os.path.join(WORD_VECTOR_PATH,\"biomed_word2vec.txt\")\n",
    "WORD_VECTOR_GLOVE = os.path.join(WORD_VECTOR_PATH,\"glove.840B.300d.txt\")\n",
    "WORD_VECTOR_PUBMED_PMC_ORIGINAL = os.path.join(WORD_VECTOR_PATH, \"ri-3gram-400-tsv\", \"vectors.tsv\")\n",
    "VOCAB_PUBMED_PMC = os.path.join(WORD_VECTOR_PATH, \"ri-3gram-400-tsv\", \"vocab.tsv\")\n",
    "WORD_VECTOR_PUBMED_PMC_PREPARED = os.path.join(WORD_VECTOR_PATH, \"pubmed_pmc_word2vec.txt\")\n",
    "VOCAB_NER=\"vocab-ner.txt\"\n",
    "\n",
    "\n",
    "MODEL_PATH = \"model\"\n",
    "MODEL_TRAIN_PATH = os.path.join(MODEL_PATH, \"train\")\n",
    "MODEL_ACTUAL_PATH = os.path.join(MODEL_PATH, \"actual\")\n",
    "\n",
    "TSV_EXTENSION = \".tsv\"\n",
    "JSON_EXTENSION = \".json\"\n",
    "SPACY_EXTENSION = \".spacy\"\n",
    "\n",
    "AUG_SUFFIXE = \"_aug\"\n",
    "\n",
    "TRAIN_DEV_DATASET = \"train_dev\"\n",
    "TRAIN_DATASET = \"train\"\n",
    "TRAIN_AUGMENT_DATASET = \"train_aug\"\n",
    "VALIDATE_DATASET = \"devel\"\n",
    "TEST_DATASET = \"test\"\n",
    "TRAIN_AUG_VALIDATE_DATASET = \"train_dev_aug\"\n",
    "\n",
    "DATASET_TYPE = [TRAIN_DATASET, VALIDATE_DATASET, TEST_DATASET]"
   ]
  },
  {
   "cell_type": "markdown",
   "metadata": {},
   "source": [
    "### Word2Vec gerado pelo Gensim utilizando os datasets de treino, validação e teste"
   ]
  },
  {
   "cell_type": "code",
   "execution_count": 4,
   "metadata": {},
   "outputs": [],
   "source": [
    "def generate_word2vec_gensim():\n",
    "    lista_stopwords = set(stopwords.words('english'))\n",
    "    list_files = os.listdir(DATA_AGGREGATE_PATH)\n",
    "    sentences = []\n",
    "    for file in list_files:\n",
    "        file_full_path = os.path.join(DATA_AGGREGATE_PATH, file) \n",
    "        \n",
    "        if not os.path.isfile(file_full_path):\n",
    "            continue\n",
    "        \n",
    "        with open (file_full_path, \"r\", encoding=\"utf-8\") as f:\n",
    "            json_data = json.load(f)\n",
    "        \n",
    "        for an in json_data:            \n",
    "            texto = an[\"texto\"].lower()\n",
    "            # retirar números\n",
    "            texto = re.sub(r\"\\b\\d+(?:\\.\\d*(?:[eE]\\d+))?\\b\",'', texto)\n",
    "            lista_token = []\n",
    "            for token in texto.split():\n",
    "                if token not in string.punctuation and token not in lista_stopwords and len(token) > 1:\n",
    "                    lista_token.append(token)\n",
    "                \n",
    "            sentences.append(lista_token)\n",
    "\n",
    "    cores = multiprocessing.cpu_count()\n",
    "    w2v_model = Word2Vec(min_count=1,\n",
    "                        window=5,\n",
    "                        vector_size=500,\n",
    "                        sample=6e-5,\n",
    "                        alpha=0.03,\n",
    "                        min_alpha=0.0007,\n",
    "                        negative=20,\n",
    "                        workers=5)\n",
    "    \n",
    "    w2v_model.build_vocab(sentences)\n",
    "    w2v_model.train(sentences,total_examples=w2v_model.corpus_count, epochs=1)\n",
    "    \n",
    "    w2v_model.save(WORD_VECTOR_MODEL_NAME)      \n",
    "    w2v_model.wv.save_word2vec_format(WORD_VECTOR_FILE_NAME)    \n",
    "        "
   ]
  },
  {
   "cell_type": "code",
   "execution_count": 79,
   "metadata": {},
   "outputs": [],
   "source": [
    "generate_word2vec()"
   ]
  },
  {
   "cell_type": "markdown",
   "metadata": {},
   "source": [
    "#### Exportando arquivos para visualizar no Tensorboard"
   ]
  },
  {
   "cell_type": "code",
   "execution_count": 10,
   "metadata": {},
   "outputs": [
    {
     "name": "stderr",
     "output_type": "stream",
     "text": [
      "2021-04-13 05:12:54,706 - word2vec2tensor - INFO - running C:\\Users\\gdutr\\miniconda3\\envs\\nlp-gpu\\lib\\site-packages\\gensim\\scripts\\word2vec2tensor.py -i word_vec/biomed_word2vec.txt -o word_vec/tensorboard/biomed\n",
      "2021-04-13 05:12:54,706 - keyedvectors - INFO - loading projection weights from word_vec/biomed_word2vec.txt\n",
      "2021-04-13 05:13:36,310 - utils - INFO - KeyedVectors lifecycle event {'msg': 'loaded (90024, 500) matrix of type float32 from word_vec/biomed_word2vec.txt', 'binary': False, 'encoding': 'utf8', 'datetime': '2021-04-13T05:13:36.310462', 'gensim': '4.0.1', 'python': '3.8.8 (default, Feb 24 2021, 15:54:32) [MSC v.1928 64 bit (AMD64)]', 'platform': 'Windows-10-10.0.19041-SP0', 'event': 'load_word2vec_format'}\n",
      "2021-04-13 05:14:02,965 - word2vec2tensor - INFO - 2D tensor file saved to word_vec/tensorboard/biomed_tensor.tsv\n",
      "2021-04-13 05:14:02,965 - word2vec2tensor - INFO - Tensor metadata file saved to word_vec/tensorboard/biomed_metadata.tsv\n",
      "2021-04-13 05:14:02,965 - word2vec2tensor - INFO - finished running word2vec2tensor.py\n"
     ]
    }
   ],
   "source": [
    "!python -m gensim.scripts.word2vec2tensor -i word_vec/biomed_word2vec.txt -o word_vec/tensorboard/biomed"
   ]
  },
  {
   "cell_type": "markdown",
   "metadata": {},
   "source": [
    "### Conversão do Word2Vec Pubmed e PMC para formato txt utilizado pelo Spacy"
   ]
  },
  {
   "cell_type": "code",
   "execution_count": 12,
   "metadata": {},
   "outputs": [],
   "source": [
    "def convert_Pubmed_PMC_word2vec():\n",
    "    with open (WORD_VECTOR_PUBMED_PMC_ORIGINAL, \"r\", encoding=\"utf-8\") as f_vector, open (VOCAB_PUBMED_PMC, \"r\", encoding=\"utf-8\") as f_vocab, open(WORD_VECTOR_PUBMED_PMC_PREPARED,\"w\") as f_result, open (VOCAB_NER, \"r\") as f_vocab_ner:    \n",
    "        set_palavras_ner = set()\n",
    "        for linha in f_vocab_ner:\n",
    "            linha = linha.replace(\"\\n\", \"\")\n",
    "            set_palavras_ner.add(linha)\n",
    "        for linha in f_vocab:\n",
    "            palavra = linha.split(\"\\t\")[0]\n",
    "            vetor_palavra = f_vector.readline().replace(\"\\t\", \" \")\n",
    "            if palavra in set_palavras_ner:\n",
    "                linha = palavra + \" \" + vetor_palavra\n",
    "                f_result.write(linha)"
   ]
  },
  {
   "cell_type": "code",
   "execution_count": 13,
   "metadata": {},
   "outputs": [],
   "source": [
    "convert_Pubmed_PMC_word2vec()"
   ]
  },
  {
   "cell_type": "code",
   "execution_count": 14,
   "metadata": {},
   "outputs": [],
   "source": [
    "def generate_ner_vocab():\n",
    "    vocab = set()\n",
    "    list_files = os.listdir(DATA_AGGREGATE_PATH)\n",
    "    for file in list_files:\n",
    "        file_full_path = os.path.join(DATA_AGGREGATE_PATH, file) \n",
    "        \n",
    "        if not os.path.isfile(file_full_path):\n",
    "            continue\n",
    "        \n",
    "        with open (file_full_path, \"r\", encoding=\"utf-8\") as f:\n",
    "            json_data = json.load(f)\n",
    "        \n",
    "        for an in json_data:  \n",
    "            texto = an[\"texto\"]\n",
    "            token_list = texto.split()\n",
    "            for token in token_list:\n",
    "                if len(token) > 1 and not token.isnumeric() and token not in string.punctuation:\n",
    "                    vocab.add(token)\n",
    "            \n",
    "           # for ent in an[\"entities\"]:\n",
    "           #     token = ent[\"entidade\"].split()\n",
    "           #     for t in token:\n",
    "           #         if len(t) > 1 and not t.isnumeric() and t not in string.punctuation:\n",
    "           #             vocab.add(t)\n",
    "    with open (VOCAB_NER, \"w\") as f_vocab:\n",
    "        for cont, v in enumerate(vocab):\n",
    "            f_vocab.write(v)\n",
    "            if cont < len(vocab) -1:\n",
    "                f_vocab.write(\"\\n\")"
   ]
  },
  {
   "cell_type": "code",
   "execution_count": 15,
   "metadata": {},
   "outputs": [],
   "source": [
    "generate_ner_vocab()"
   ]
  },
  {
   "cell_type": "code",
   "execution_count": null,
   "metadata": {},
   "outputs": [],
   "source": []
  }
 ],
 "metadata": {
  "kernelspec": {
   "display_name": "Python 3",
   "language": "python",
   "name": "python3"
  },
  "language_info": {
   "codemirror_mode": {
    "name": "ipython",
    "version": 3
   },
   "file_extension": ".py",
   "mimetype": "text/x-python",
   "name": "python",
   "nbconvert_exporter": "python",
   "pygments_lexer": "ipython3",
   "version": "3.8.5"
  }
 },
 "nbformat": 4,
 "nbformat_minor": 5
}
