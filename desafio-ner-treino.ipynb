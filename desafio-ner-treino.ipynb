{
 "cells": [
  {
   "cell_type": "markdown",
   "id": "ca0bb4db",
   "metadata": {},
   "source": [
    "# Desafio NER - Treino Spacy \n",
    "* Treinamento com Entidades Separadas, um modelo para cada label - Bons resultados quando executados separados, bons resultados se testados com datasets separados, mas resultados ruins quando utilizado um dataset com todos os labels.\n",
    "* Treinamento com Todas as Entidades - Em andamento"
   ]
  },
  {
   "cell_type": "code",
   "execution_count": 13,
   "id": "5f7d88b0",
   "metadata": {},
   "outputs": [],
   "source": [
    "import os\n",
    "from pathlib import Path\n",
    "import re\n",
    "import string\n",
    "import json\n",
    "import random\n",
    "import sys\n",
    "import subprocess\n",
    "import time\n",
    "import datetime\n",
    "import shutil\n",
    "\n",
    "from tqdm import tqdm\n",
    "import spacy\n",
    "from spacy.tokens import DocBin\n",
    "from spacy.util import minibatch, compounding\n",
    "from spacy.training import Example\n",
    "\n",
    "KMP_DUPLICATE_LIB_OK=True"
   ]
  },
  {
   "cell_type": "code",
   "execution_count": 14,
   "id": "22143d37",
   "metadata": {},
   "outputs": [],
   "source": [
    "LABEL_DRUG_PROTEIN = 'DRUG-PROTEIN'\n",
    "LABEL_CHEMICAL = 'CHEMICAL'\n",
    "LABEL_DISEASE = 'DISEASE'\n",
    "LABEL_SPECIES = 'SPECIES'\n",
    "\n",
    "LABEL_LIST = [LABEL_DRUG_PROTEIN,\n",
    "              LABEL_CHEMICAL,\n",
    "              LABEL_DISEASE,    \n",
    "              LABEL_SPECIES]\n",
    "\n",
    "LABEL_TO_DIR = {\n",
    "    LABEL_DRUG_PROTEIN: ['BC2GM', 'JNLPBA'],\n",
    "    LABEL_CHEMICAL: ['BC4CHEMD','BC5CDR-chem'],\n",
    "    LABEL_DISEASE: ['BC5CDR-disease', 'NCBI-disease'],    \n",
    "    LABEL_SPECIES: ['linnaeus', 's800']\n",
    "}\n",
    "\n",
    "DATA_ORIGIN_PATH = os.path.join(\"data\",\"origin\")\n",
    "DATA_PREPARED_PATH = os.path.join(\"data\", \"prepared\")\n",
    "DATA_AGGREGATE_PATH = os.path.join(DATA_PREPARED_PATH, \"aggregate\")\n",
    "\n",
    "WORD_VECTOR_PATH = \"word_vec\"\n",
    "WORD_VECTOR_MODEL_NAME = os.path.join(WORD_VECTOR_PATH,\"biomed.model\")\n",
    "WORD_VECTOR_FILE_NAME = os.path.join(WORD_VECTOR_PATH,\"biomed_word2vec.txt\")\n",
    "WORD_VECTOR_GLOVE = os.path.join(WORD_VECTOR_PATH,\"glove.840B.300d.txt\")\n",
    "WORD_VECTOR_PUBMED_PMC_ORIGINAL = os.path.join(WORD_VECTOR_PATH, \"ri-3gram-400-tsv\", \"vectors.tsv\")\n",
    "VOCAB_PUBMED_PMC = os.path.join(WORD_VECTOR_PATH, \"ri-3gram-400-tsv\", \"vocab.tsv\")\n",
    "WORD_VECTOR_PUBMED_PMC_PREPARED = os.path.join(WORD_VECTOR_PATH, \"pubmed_pmc_word2vec.txt\")\n",
    "VOCAB_NER=\"vocab-ner.txt\"\n",
    "\n",
    "MODEL_PATH = \"model\"\n",
    "MODEL_TRAIN_PATH = os.path.join(MODEL_PATH, \"train\")\n",
    "MODEL_ACTUAL_PATH = os.path.join(MODEL_PATH, \"actual\")\n",
    "\n",
    "TSV_EXTENSION = \".tsv\"\n",
    "JSON_EXTENSION = \".json\"\n",
    "SPACY_EXTENSION = \".spacy\"\n",
    "\n",
    "AUG_SUFFIXE = \"_aug\"\n",
    "\n",
    "TRAIN_DEV_DATASET = \"train_dev\"\n",
    "TRAIN_DATASET = \"train\"\n",
    "TRAIN_AUGMENT_DATASET = \"train_aug\"\n",
    "VALIDATE_DATASET = \"devel\"\n",
    "TEST_DATASET = \"test\"\n",
    "TRAIN_AUG_VALIDATE_DATASET = \"train_dev_aug\"\n",
    "\n",
    "DATASET_TYPE = [TRAIN_DATASET, VALIDATE_DATASET, TEST_DATASET]"
   ]
  },
  {
   "cell_type": "markdown",
   "id": "a5873a8d",
   "metadata": {},
   "source": [
    "#### Carrega os datasets convertidos para formato json conhecido do spacy. A versão 3 utiliza a classe *Example* e será tratada no treinamento"
   ]
  },
  {
   "cell_type": "code",
   "execution_count": 15,
   "id": "02020daf",
   "metadata": {},
   "outputs": [],
   "source": [
    "def read_file(file, to_lower):\n",
    "    data = []\n",
    "    with open (file, \"r\", encoding=\"utf-8\") as f:\n",
    "        json_data = json.load(f)\n",
    "    for an in json_data:\n",
    "        texto = an[\"texto\"]\n",
    "        if to_lower:\n",
    "            texto = texto.lower()\n",
    "        entities = []\n",
    "        for entidade in an[\"entities\"]:\n",
    "            info = (entidade[\"start\"], entidade[\"end\"], entidade[\"label\"])\n",
    "            entities.append(info)\n",
    "        data.append((texto,{\"entities\":entities}))\n",
    "    return data"
   ]
  },
  {
   "cell_type": "code",
   "execution_count": 17,
   "id": "17b146cf",
   "metadata": {},
   "outputs": [],
   "source": [
    "def load_data(label, dataset_type, load_aug_file, to_lower):\n",
    "    file = os.path.join(DATA_PREPARED_PATH, label, label + \"-\" + dataset_type + JSON_EXTENSION)\n",
    "    data = read_file(file, to_lower) \n",
    "    \n",
    "    if load_aug_file:\n",
    "        file_aug = os.path.join(DATA_PREPARED_PATH, label, label + \"-\" + dataset_type + AUG_SUFFIXE + JSON_EXTENSION)\n",
    "        data.extend(read_file(file_aug, to_lower))\n",
    "    return data"
   ]
  },
  {
   "cell_type": "markdown",
   "id": "e36f9357",
   "metadata": {},
   "source": [
    "#### Converte os dados em formato válido até a versão 2.0 do Spacy para a classe Example, que passou a ser utilizada na versão 3"
   ]
  },
  {
   "cell_type": "code",
   "execution_count": 18,
   "id": "24c0a2bc",
   "metadata": {
    "tags": []
   },
   "outputs": [],
   "source": [
    "def format_data_for_evaluation(data, nlp_model): \n",
    "    data_formated = []\n",
    "    for text, annotations in data:\n",
    "        doc = nlp_model.make_doc(text)\n",
    "        example = Example.from_dict(doc, annotations)\n",
    "        data_formated.append(example)\n",
    "    return data_formated\n"
   ]
  },
  {
   "cell_type": "markdown",
   "id": "d726ed80",
   "metadata": {},
   "source": [
    "### Treinamento de um Label utilizando sua respectiva base para treinamento"
   ]
  },
  {
   "cell_type": "code",
   "execution_count": 19,
   "id": "28306ca8",
   "metadata": {},
   "outputs": [],
   "source": [
    "def create_model_with_word_vector(label, word_vec):\n",
    "    path = os.path.join(MODEL_TRAIN_PATH, label)\n",
    "    if (os.path.exists):\n",
    "        shutil.rmtree(path, ignore_errors=True)\n",
    "    \n",
    "    Path(path).mkdir(parents=True, exist_ok=True)\n",
    "    \n",
    "    subprocess.run([sys.executable,\n",
    "                    \"-m\",\n",
    "                    \"spacy\",\n",
    "                    \"init\",\n",
    "                    \"vectors\",\n",
    "                    \"en\",\n",
    "                    word_vec,\n",
    "                    path,\n",
    "                    ])\n",
    "    \n",
    "    return spacy.load(path)"
   ]
  },
  {
   "cell_type": "code",
   "execution_count": 20,
   "id": "eeadfaac",
   "metadata": {},
   "outputs": [],
   "source": [
    "def train_spacy_one_label(train_data, validate_data, iterations, label, word_embedding=None, to_lower=False, description=\"\"):\n",
    "    ner_name = label + \"_ner\"    \n",
    "    if word_embedding == None:\n",
    "        nlp_train = spacy.blank(\"en\")\n",
    "    else:\n",
    "        nlp_train = create_model_with_word_vector(label, word_embedding)\n",
    "    \n",
    "    ner = nlp_train.add_pipe(\"ner\",name=ner_name)\n",
    "    ner.add_label(label)    \n",
    "    \n",
    "    best_ents_p = -1\n",
    "    best_ents_r = -1\n",
    "    best_ents_f = -1\n",
    "    \n",
    "    with open(os.path.join(MODEL_TRAIN_PATH, \"log_treino.txt\" ) , \"a\") as log_file:\n",
    "        log_file.write(\"\\n\")\n",
    "        log_file.write(f\"=======> [LABELS ISOLADOS] Inicio Treino {time.strftime('%d/%m/%Y %H:%M:%S', time.gmtime(time.time()))} ===================================== \\n\")\n",
    "        log_file.write(f\"Detalhes: {description} \\n\\n\")\n",
    "        \n",
    "        other_pipes = [pipe for pipe in nlp_train.pipe_names if pipe != ner_name]\n",
    "        with nlp_train.disable_pipes(*other_pipes):\n",
    "            optimizer = nlp_train.begin_training()\n",
    "            #optimizer = nlp_train.create_optimizer()\n",
    "            print(f\"{'#IT':5} | {'Loss':8} | {'Prec':6} | {'Recall':6} | {'F_Scr':6} | {'Save Mod':8} | {'Duração':10} \")\n",
    "            log_file.write(f\"{'#IT':5} | {'Loss':8} | {'Prec':6} | {'Recall':6} | {'F_Scr':6} | {'Save Mod':8} | {'Duracao':10} \\n\")\n",
    "            \n",
    "            for itn in range(iterations):\n",
    "                start_time = time.time()\n",
    "                linha = f\"{str(itn):5} | \"\n",
    "                random.shuffle(train_data)\n",
    "                losses = {}\n",
    "                batches = minibatch(train_data, size=512)\n",
    "\n",
    "                for batch in batches:\n",
    "                    for text, annotations in batch:\n",
    "                        doc = nlp_train.make_doc(text)\n",
    "                        example = Example.from_dict(doc, annotations)\n",
    "                        nlp_train.update( [example],\n",
    "                            drop=0.2,  \n",
    "                            sgd=optimizer,\n",
    "                            losses=losses)                \n",
    "                \n",
    "                validate_metrics = nlp_train.evaluate(format_data_for_evaluation(validate_data, nlp_train))\n",
    "                linha += f\"{losses[list(losses)[0]]:08.2f} | {validate_metrics['ents_p']*100:06.2f} | {validate_metrics['ents_r']*100:06.2f} | {validate_metrics['ents_f']*100:06.2f} | \"\n",
    "\n",
    "                if (validate_metrics[\"ents_f\"] > best_ents_f):\n",
    "                    best_ents_r = validate_metrics[\"ents_r\"]\n",
    "                    best_ents_f = validate_metrics[\"ents_f\"]\n",
    "                    best_ents_p = validate_metrics[\"ents_p\"]\n",
    "                    linha += f\"{'S':8} | \"\n",
    "\n",
    "                    path = os.path.join(MODEL_TRAIN_PATH, label)\n",
    "                    Path(path).mkdir(parents=True, exist_ok=True)\n",
    "                    nlp_train.to_disk(path)                \n",
    "                else:\n",
    "                    linha += f\"{'N':8} | \"\n",
    "\n",
    "                elapsed = time.strftime(\"%H:%M:%S\", time.gmtime(time.time() - start_time))\n",
    "                linha += elapsed\n",
    "\n",
    "                linha.replace(\".\", \",\")\n",
    "                print(linha)\n",
    "                log_file.write(linha + \"\\n\")\n",
    "                log_file.flush()\n",
    "                \n",
    "    return nlp_train"
   ]
  },
  {
   "cell_type": "code",
   "execution_count": 31,
   "id": "06cd2908",
   "metadata": {},
   "outputs": [],
   "source": [
    "def executa_teste_modelo(model_path, label, to_lower=False):\n",
    "    start_time = time.time()\n",
    "    nlp_test = spacy.load(os.path.join(model_path, label))\n",
    "    test_data = load_data(label, TEST_DATASET,load_aug_file=False, to_lower=to_lower)\n",
    "    test_data_spacy=format_data_for_evaluation(test_data, nlp_test)\n",
    "    test_metrics = nlp_test.evaluate(test_data_spacy)\n",
    "    elapsed = time.strftime(\"%H:%M:%S\", time.gmtime(time.time() - start_time))\n",
    "    with open(os.path.join(MODEL_TRAIN_PATH, \"log_treino.txt\" ) , \"a\") as log_file:\n",
    "        linha = f\"{'Val.':5} | \"\n",
    "        linha += f\"{'':8} | {test_metrics['ents_p']*100:06.2f} | {test_metrics['ents_r']*100:06.2f} | {test_metrics['ents_f']*100:06.2f} | {'':8} | {elapsed} \"\n",
    "        linha.replace(\".\", \",\")\n",
    "        log_file.write(linha)\n",
    "        print(linha)\n",
    "    "
   ]
  },
  {
   "cell_type": "code",
   "execution_count": 29,
   "id": "0c18f5e0",
   "metadata": {},
   "outputs": [],
   "source": [
    "def treina_modelo(label, word_embedding=None, load_aug_file=False, to_lower=False, description=\"\"):\n",
    "    \n",
    "    validate_data = load_data(label, VALIDATE_DATASET, load_aug_file=False, to_lower=to_lower)    \n",
    "    train_data =  load_data(label, TRAIN_DATASET, load_aug_file, to_lower)\n",
    "    nlp = train_spacy_one_label(train_data,\n",
    "                                validate_data,                                 \n",
    "                                10, \n",
    "                                label, \n",
    "                                word_embedding,\n",
    "                                description=description)"
   ]
  },
  {
   "cell_type": "markdown",
   "id": "d5583f00",
   "metadata": {},
   "source": [
    "### Treinamento - Validação após cada epoch (10 no total) e medição final com a base de teste do melhor modelo."
   ]
  },
  {
   "cell_type": "code",
   "execution_count": 23,
   "id": "89314d97",
   "metadata": {},
   "outputs": [
    {
     "name": "stdout",
     "output_type": "stream",
     "text": [
      "#IT   | Loss     | Prec   | Recall | F_Scr  | Save Mod | Duração    \n",
      "0     | 04306.23 | 082.91 | 074.89 | 078.69 | S        | 00:07:12\n",
      "1     | 02883.86 | 072.70 | 075.62 | 074.13 | N        | 00:08:10\n",
      "2     | 02506.44 | 082.58 | 071.42 | 076.59 | N        | 00:07:53\n",
      "3     | 02160.13 | 077.25 | 075.98 | 076.61 | N        | 00:08:23\n",
      "4     | 02044.21 | 075.25 | 081.10 | 078.07 | N        | 00:08:05\n",
      "5     | 01874.98 | 088.42 | 065.57 | 075.30 | N        | 00:07:46\n",
      "6     | 01666.84 | 080.06 | 072.97 | 076.35 | N        | 00:07:56\n",
      "7     | 01693.45 | 072.90 | 038.81 | 050.66 | N        | 00:07:56\n",
      "8     | 01654.30 | 091.85 | 076.16 | 083.28 | S        | 00:08:03\n",
      "9     | 01615.20 | 088.54 | 075.53 | 081.52 | N        | 00:08:06\n"
     ]
    }
   ],
   "source": [
    "treina_modelo(LABEL_SPECIES, \n",
    "              word_embedding=None, \n",
    "              load_aug_file=False, \n",
    "              to_lower=False,\n",
    "              description=\"Treinamento SPECIES com Embedding Pubmed PMC preparado\")"
   ]
  },
  {
   "cell_type": "code",
   "execution_count": 32,
   "id": "2e8cfd2d",
   "metadata": {
    "tags": []
   },
   "outputs": [
    {
     "name": "stdout",
     "output_type": "stream",
     "text": [
      "Val.  |          | 086.03 | 066.64 | 075.10 |          | 00:00:13 \n"
     ]
    }
   ],
   "source": [
    "executa_teste_modelo(MODEL_TRAIN_PATH, LABEL_SPECIES, to_lower=False)"
   ]
  },
  {
   "cell_type": "code",
   "execution_count": 11,
   "id": "8fd2f0a2",
   "metadata": {},
   "outputs": [
    {
     "name": "stdout",
     "output_type": "stream",
     "text": [
      "#IT   | Loss     | Prec   | Recall | F_Scr  | Save Mod | Duração    \n",
      "0     | 44819.87 | 068.63 | 069.54 | 069.09 | S        | 00:16:07\n",
      "1     | 37699.58 | 076.91 | 066.63 | 071.40 | S        | 00:15:51\n",
      "2     | 35869.08 | 071.64 | 074.16 | 072.88 | S        | 00:15:21\n",
      "3     | 35251.75 | 074.80 | 070.72 | 072.70 | N        | 00:15:18\n",
      "4     | 34939.09 | 077.46 | 065.50 | 070.98 | N        | 00:15:10\n",
      "5     | 34560.62 | 077.67 | 067.39 | 072.17 | N        | 00:15:34\n",
      "6     | 34534.72 | 073.68 | 071.87 | 072.77 | N        | 00:15:29\n",
      "7     | 34205.26 | 076.63 | 068.04 | 072.08 | N        | 00:15:39\n",
      "8     | 33941.51 | 079.30 | 066.42 | 072.29 | N        | 00:15:56\n",
      "9     | 33623.53 | 076.81 | 064.76 | 070.28 | N        | 00:15:48\n"
     ]
    }
   ],
   "source": [
    "treina_modelo(LABEL_DRUG_PROTEIN, \n",
    "              word_embedding=WORD_VECTOR_PUBMED_PMC_PREPARED, \n",
    "              load_aug_file=False, \n",
    "              description=\"Treinamento DRUG PROTEIN com Embedding Pubmed PMC preparado\")"
   ]
  },
  {
   "cell_type": "code",
   "execution_count": 12,
   "id": "85721820",
   "metadata": {},
   "outputs": [
    {
     "name": "stdout",
     "output_type": "stream",
     "text": [
      "Val.  |          | 063.87 | 070.21 | 066.89 |          | 00:00:19 \n"
     ]
    }
   ],
   "source": [
    "executa_teste_modelo(MODEL_TRAIN_PATH, LABEL_DRUG_PROTEIN)"
   ]
  },
  {
   "cell_type": "code",
   "execution_count": null,
   "id": "c18e8ed6",
   "metadata": {},
   "outputs": [],
   "source": []
  },
  {
   "cell_type": "code",
   "execution_count": null,
   "id": "bfefcfc3",
   "metadata": {},
   "outputs": [],
   "source": [
    "treina_modelo(LABEL_CHEMICAL, \n",
    "              word_embedding=WORD_VECTOR_PUBMED_PMC_PREPARED, \n",
    "              load_aug_file=False, \n",
    "              description=\"Treinamento CHEMICAL com Embedding Pubmed PMC preparado\")"
   ]
  },
  {
   "cell_type": "code",
   "execution_count": null,
   "id": "007d08c3",
   "metadata": {},
   "outputs": [],
   "source": [
    "executa_teste_modelo(MODEL_TRAIN_PATH, LABEL_CHEMICAL)"
   ]
  },
  {
   "cell_type": "code",
   "execution_count": null,
   "id": "d564de27",
   "metadata": {},
   "outputs": [],
   "source": []
  },
  {
   "cell_type": "code",
   "execution_count": null,
   "id": "d9d48f00",
   "metadata": {},
   "outputs": [],
   "source": [
    "treina_modelo(LABEL_DISEASE, \n",
    "              word_embedding=WORD_VECTOR_PUBMED_PMC_PREPARED, \n",
    "              load_aug_file=False, \n",
    "              description=\"Treinamento DISEASE com Embedding Pubmed PMC preparado\")\n"
   ]
  },
  {
   "cell_type": "code",
   "execution_count": null,
   "id": "2f5023a9",
   "metadata": {},
   "outputs": [],
   "source": [
    "executa_teste_modelo(MODEL_TRAIN_PATH, LABEL_DISEASE)"
   ]
  }
 ],
 "metadata": {
  "kernelspec": {
   "display_name": "Python 3",
   "language": "python",
   "name": "python3"
  },
  "language_info": {
   "codemirror_mode": {
    "name": "ipython",
    "version": 3
   },
   "file_extension": ".py",
   "mimetype": "text/x-python",
   "name": "python",
   "nbconvert_exporter": "python",
   "pygments_lexer": "ipython3",
   "version": "3.8.8"
  }
 },
 "nbformat": 4,
 "nbformat_minor": 5
}
