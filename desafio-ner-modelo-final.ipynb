{
 "cells": [
  {
   "cell_type": "code",
   "execution_count": 47,
   "id": "postal-thickness",
   "metadata": {},
   "outputs": [],
   "source": [
    "import os\n",
    "from pathlib import Path\n",
    "import re\n",
    "import string\n",
    "import json\n",
    "import random\n",
    "import sys\n",
    "import time\n",
    "\n",
    "from tqdm import tqdm\n",
    "import spacy\n",
    "from spacy.tokens import DocBin\n",
    "from spacy.util import minibatch, compounding\n",
    "from spacy.training import Example"
   ]
  },
  {
   "cell_type": "code",
   "execution_count": 48,
   "id": "close-donor",
   "metadata": {},
   "outputs": [],
   "source": [
    "LABEL_DRUG_PROTEIN = 'DRUG-PROTEIN'\n",
    "LABEL_CHEMICAL = 'CHEMICAL'\n",
    "LABEL_DISEASE = 'DISEASE'\n",
    "LABEL_SPECIES = 'SPECIES'\n",
    "\n",
    "LABEL_LIST = [LABEL_DRUG_PROTEIN,\n",
    "              LABEL_CHEMICAL,\n",
    "              LABEL_DISEASE,    \n",
    "              LABEL_SPECIES]\n",
    "\n",
    "LABEL_TO_DIR = {\n",
    "    LABEL_DRUG_PROTEIN: ['BC2GM', 'JNLPBA'],\n",
    "    LABEL_CHEMICAL: ['BC4CHEMD','BC5CDR-chem'],\n",
    "    LABEL_DISEASE: ['BC5CDR-disease', 'NCBI-disease'],    \n",
    "    LABEL_SPECIES: ['linnaeus', 's800']\n",
    "}\n",
    "\n",
    "DATA_ORIGIN_PATH = os.path.join(\"data\",\"origin\")\n",
    "DATA_PREPARED_PATH = os.path.join(\"data\", \"prepared\")\n",
    "DATA_AGGREGATE_PATH = os.path.join(DATA_PREPARED_PATH, \"aggregate\")\n",
    "\n",
    "WORD_VECTOR_PATH = \"word_vec\"\n",
    "WORD_VECTOR_MODEL_NAME = os.path.join(WORD_VECTOR_PATH, \"biomed.model\")\n",
    "WORD_VECTOR_FILE_NAME = os.path.join(WORD_VECTOR_PATH, \"biomed_word2vec.txt\")\n",
    "WORD_VECTOR_EXPORT_TENSORBOARD_PATH = os.path.join(WORD_VECTOR_PATH, \"tensorboard\", \"biomed_ner\")\n",
    "\n",
    "MODEL_PATH = \"model\"\n",
    "MODEL_TRAIN_PATH = os.path.join(MODEL_PATH, \"train\")\n",
    "MODEL_ACTUAL_PATH = os.path.join(MODEL_PATH, \"actual\")\n",
    "\n",
    "TSV_EXTENSION = \".tsv\"\n",
    "JSON_EXTENSION = \".json\"\n",
    "SPACY_EXTENSION = \".spacy\"\n",
    "\n",
    "TRAIN_DEV_DATASET = \"train_dev\"\n",
    "TRAIN_DATASET = \"train\"\n",
    "VALIDATE_DATASET = \"devel\"\n",
    "TEST_DATASET = \"test\"\n",
    "\n",
    "DATASET_TYPE = [TRAIN_DATASET, VALIDATE_DATASET, TEST_DATASET]"
   ]
  },
  {
   "cell_type": "code",
   "execution_count": 50,
   "id": "fresh-postage",
   "metadata": {},
   "outputs": [],
   "source": [
    "#main_nlp = spacy.load(\"en_core_web_sm\")\n",
    "main_nlp = spacy.blank(\"en\")\n",
    "\n",
    "path = os.path.join(MODEL_ACTUAL_PATH, LABEL_SPECIES)\n",
    "nlp_species = spacy.load(path)\n",
    "\n",
    "path = os.path.join(MODEL_ACTUAL_PATH, LABEL_DRUG_PROTEIN)\n",
    "nlp_drug_protein = spacy.load(path)\n",
    "\n",
    "path = os.path.join(MODEL_ACTUAL_PATH, LABEL_CHEMICAL)\n",
    "nlp_chemical = spacy.load(path)\n",
    "\n",
    "path = os.path.join(MODEL_ACTUAL_PATH, LABEL_DISEASE)\n",
    "nlp_disease = spacy.load(path)\n"
   ]
  },
  {
   "cell_type": "code",
   "execution_count": 51,
   "id": "restricted-dance",
   "metadata": {},
   "outputs": [],
   "source": [
    "if len(main_nlp.pipe_names) > 0:\n",
    "    main_nlp.add_pipe(LABEL_SPECIES + \"_ner\", source=nlp_species, before=\"ner\")\n",
    "    main_nlp.add_pipe(LABEL_DRUG_PROTEIN + \"_ner\", source=nlp_drug_protein, before=\"ner\")\n",
    "    main_nlp.add_pipe(LABEL_CHEMICAL + \"_ner\", source=nlp_chemical, before=\"ner\")\n",
    "    main_nlp.add_pipe(LABEL_DISEASE + \"_ner\", source=nlp_disease, before=\"ner\")\n",
    "    main_nlp.remove_pipe(\"ner\")\n",
    "else:\n",
    "    main_nlp.add_pipe(LABEL_SPECIES + \"_ner\", source=nlp_species)\n",
    "    main_nlp.add_pipe(LABEL_DRUG_PROTEIN + \"_ner\", source=nlp_drug_protein)\n",
    "    main_nlp.add_pipe(LABEL_CHEMICAL + \"_ner\", source=nlp_chemical)\n",
    "    main_nlp.add_pipe(LABEL_DISEASE + \"_ner\", source=nlp_disease)"
   ]
  },
  {
   "cell_type": "code",
   "execution_count": 52,
   "id": "rational-preview",
   "metadata": {},
   "outputs": [
    {
     "data": {
      "text/plain": [
       "['SPECIES_ner', 'DRUG-PROTEIN_ner', 'CHEMICAL_ner', 'DISEASE_ner']"
      ]
     },
     "execution_count": 52,
     "metadata": {},
     "output_type": "execute_result"
    }
   ],
   "source": [
    "main_nlp.pipe_names"
   ]
  },
  {
   "cell_type": "code",
   "execution_count": 58,
   "id": "bridal-charity",
   "metadata": {},
   "outputs": [],
   "source": [
    "def format_data_for_evaluation(data, nlp_model): \n",
    "    data_formated = []\n",
    "    for text, annotations in data:\n",
    "        doc = nlp_model.make_doc(text)\n",
    "        example = Example.from_dict(doc, annotations)\n",
    "        data_formated.append(example)\n",
    "    return data_formated"
   ]
  },
  {
   "cell_type": "code",
   "execution_count": 56,
   "id": "disciplinary-block",
   "metadata": {},
   "outputs": [],
   "source": [
    "def load_data(label, dataset_type, group_by_label=True):\n",
    "    data = []\n",
    "    if group_by_label:\n",
    "        file = os.path.join(DATA_PREPARED_PATH, label, label + \"-\" + dataset_type + JSON_EXTENSION)\n",
    "    else:\n",
    "        file = os.path.join(DATA_AGGREGATE_PATH, dataset_type + JSON_EXTENSION)\n",
    "        \n",
    "    with open (file, \"r\", encoding=\"utf-8\") as f:\n",
    "        json_data = json.load(f)\n",
    "    for an in json_data:\n",
    "        texto = an[\"texto\"]\n",
    "        entities = []\n",
    "        for entidade in an[\"entities\"]:\n",
    "            info = (entidade[\"start\"], entidade[\"end\"], entidade[\"label\"])\n",
    "            entities.append(info)\n",
    "        data.append((texto,{\"entities\":entities}))\n",
    "    return data\n"
   ]
  },
  {
   "cell_type": "code",
   "execution_count": 59,
   "id": "consecutive-terry",
   "metadata": {},
   "outputs": [
    {
     "name": "stdout",
     "output_type": "stream",
     "text": [
      "{'token_acc': 1.0, 'token_p': 1.0, 'token_r': 1.0, 'token_f': 1.0, 'ents_p': 0.39227125998835793, 'ents_r': 0.5827519113224976, 'ents_f': 0.4689054234634575, 'ents_per_type': {'SPECIES': {'p': 0.12930886640370434, 'r': 0.6854545454545454, 'f': 0.2175732217573222}, 'DRUG-PROTEIN': {'p': 0.2538183755623964, 'r': 0.6823969441349673, 'f': 0.3700107874865156}, 'CHEMICAL': {'p': 0.6579564258135687, 'r': 0.6210666753441151, 'f': 0.6389795610907448}, 'DISEASE': {'p': 0.42504409171075835, 'r': 0.08952451708766716, 'f': 0.14789812826020254}}, 'speed': 8189.3018945219455}\n"
     ]
    }
   ],
   "source": [
    "test_data = load_data(label, TEST_DATASET, group_by_label=False)\n",
    "test_data_spacy=format_data_for_evaluation(test_data, main_nlp)\n",
    "test_metrics = main_nlp.evaluate(test_data_spacy)\n",
    "print(test_metrics)"
   ]
  },
  {
   "cell_type": "code",
   "execution_count": null,
   "id": "sunrise-price",
   "metadata": {},
   "outputs": [],
   "source": []
  }
 ],
 "metadata": {
  "kernelspec": {
   "display_name": "Python 3",
   "language": "python",
   "name": "python3"
  },
  "language_info": {
   "codemirror_mode": {
    "name": "ipython",
    "version": 3
   },
   "file_extension": ".py",
   "mimetype": "text/x-python",
   "name": "python",
   "nbconvert_exporter": "python",
   "pygments_lexer": "ipython3",
   "version": "3.8.8"
  }
 },
 "nbformat": 4,
 "nbformat_minor": 5
}
